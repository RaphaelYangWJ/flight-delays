{
 "cells": [
  {
   "cell_type": "markdown",
   "metadata": {
    "application/vnd.databricks.v1+cell": {
     "cellMetadata": {},
     "inputWidgets": {},
     "nuid": "de12d786-ee97-465f-a0ed-6a66e80a540e",
     "showTitle": false,
     "title": ""
    }
   },
   "source": [
    "## Phase II - EDA, baseline pipeline on all available data, Scalability, Efficiency, Distributed/parallel Training, Scoring Pipeline, Feature engineering and hyperparameter tuning"
   ]
  },
  {
   "cell_type": "markdown",
   "metadata": {
    "application/vnd.databricks.v1+cell": {
     "cellMetadata": {},
     "inputWidgets": {},
     "nuid": "a4528a04-9063-493a-b70f-e167950ac709",
     "showTitle": false,
     "title": ""
    }
   },
   "source": [
    "### Team Members\n",
    "| Name | Email |\n",
    "| :----------- | :------------ | \n",
    "|Zukang Yang| zukangy@ischool.berkeley.edu|\n",
    "|Joey He|joeyhe01@ischool.berkeley.edu|\n",
    "|Sam Meng|smeng@ischool.berkeley.edu|\n",
    "|Nishika Abeytunge|nishika.abey@ischool.berkeley.edu|\n",
    "|Weijie Yang|raphael.yang@ischool.berkeley.edu|"
   ]
  },
  {
   "cell_type": "markdown",
   "metadata": {
    "application/vnd.databricks.v1+cell": {
     "cellMetadata": {},
     "inputWidgets": {},
     "nuid": "2491cf56-26a8-4d93-af47-ee60ef091acc",
     "showTitle": false,
     "title": ""
    }
   },
   "source": [
    "### Phase Leader Plan\n",
    "\n",
    "| Phase: Title | Leader | Week\n",
    "| :----------- | :------------ | :---------- \n",
    "| Phase 1: Project Plan, describe datasets, joins, tasks, and metrics | Zukang | week 10 \n",
    "| **Phase 2: EDA, baseline pipeline on all available data, Scalability, Efficiency, Distributed/parallel Training, Scoring Pipeline, Feature engineering and hyperparameter tuning** | **Joey He**| week 11 \n",
    "| **Phase 2: EDA, baseline pipeline on all available data, Scalability, Efficiency, Distributed/parallel Training, Scoring Pipeline, Feature engineering and hyperparameter tuning** | **Nishika Abeytunge** | week 12 \n",
    "| Phase 3: Select the optimal algorithm, fine-tune and submit a final report | Weijie Yang | week 13 \n",
    "| Phase 3: Select the optimal algorithm, fine-tune and submit a final report |Sam Meng | week 14"
   ]
  },
  {
   "cell_type": "markdown",
   "metadata": {
    "application/vnd.databricks.v1+cell": {
     "cellMetadata": {},
     "inputWidgets": {},
     "nuid": "005a9caf-793b-4c3b-b3f7-85400459fd82",
     "showTitle": false,
     "title": ""
    }
   },
   "source": [
    "### Credit Assignment Plan\n",
    "\n",
    "|Phase | Task | Assignee | Effort (in hour)\n",
    "| :------------ | :----------- | :------------: | :------\n",
    "| 1 | Set up Azure storage blob container and link it to Databricks for team usage| Zukang Yang | 1.5h\n",
    "| 1 | Completed phase leader plan | Zukang Yang | 0.2h\n",
    "| 1 | Completed credit assignment plan | Zukang Yang | 1h\n",
    "| 1 | Composed the abstract for phase 1| Sam Meng | 1.5h\n",
    "| 1 | Data Description | Nishika Abeytunge | 2.5h\n",
    "| 1 | Created machine learning pipelines, Gantt chart and timeline | Weijie Yang | 2h\n",
    "| 1 | Designed machine algorithms and metrics | Joey He | 2h\n",
    "| 1 | Edited all members' inputs and proofread the report notebook for submission | Zukang Yang | 2h\n",
    "| **2** | **EDA on OTPW (3-month)** | **Nishika Abeytunge** | **6h**\n",
    "| **2** | **EDA on OTPW (12-month)** | **Nishika Abeytunge** | **4h**\n",
    "| **2** | **List out usable features** | **Weijie Yang**| **4h**\n",
    "| **2** | **Time-based features related to RFM** | **Weijie Yang**| **4.5h**\n",
    "| **2** | **Perform feature transformations for the pipeline and verify the integrity** | **Zukang Yang**| **6h**\n",
    "| **2** | **Dimensionality reduction with PCA** | **Zukang Yang** | **1h**\n",
    "| **2** | **Create ML base pipeline (logistic regression) on 1-year ATPW dataset; log and report results** | **Joey He, Sam Meng**| **2h**\n",
    "| **2** | **Fine-tune baseline pipeline** | **Joey He, Sam Meng** | **3h**\n",
    "| **2** | **Implemented time-series K-fold corss-validation** | **Zukang Yang** | **3h**\n",
    "| **2** | **Mid presentation prep** | **All members** | **2h**\n",
    "| **2** | **Organize and clean up notebook for submission** | **Zukang Yang** | **1.5h**\n",
    "| 3 | Implement random forest on top on the base pipeline; fine-tune the pipeline if possible| Nishika Abeytunge | 6h\n",
    "| 3 | Implement Gradient Boosted Decision Trees on top on the base pipeline; fine-tune the pipeline if possible | Weijie Yang | 6h\n",
    "| 3 | Implement MLP on top on the base pipeline (extra credit ~ 5pts); fine-tune the pipeline if possible | Zukang Yang | 6h\n",
    "| 3 | Discuss more feature engineering possibilities and update the credit assignment plan | All members | 1h\n",
    "| 3 | Final presentation preparation | All menbers | 2h\n",
    "| 3 | Final report preparation and completion (need to update later) | All members | 10h\n"
   ]
  },
  {
   "cell_type": "markdown",
   "metadata": {
    "application/vnd.databricks.v1+cell": {
     "cellMetadata": {
      "byteLimit": 2048000,
      "rowLimit": 10000
     },
     "inputWidgets": {},
     "nuid": "5bba20db-fd7e-4c04-8053-f0e23a5a549d",
     "showTitle": false,
     "title": ""
    }
   },
   "source": [
    "### 1. Abstract\n",
    "\n",
    "Flight delays incur economic losses and customer inconvenience in the airline industry. Our goal is to provide a scalable machine learning solution based on historical data to forecast flight delays to avoid excessive costs for our airline company. In this second phase of our project, we conduct thourough EDA on the dataset sourced from the U.S. Department of Transportation and the transformations needed on the dataset to train our predictive models. We also defined the baseline logistic regression model and included time series cross validation with a hyperparameter grid search on the model. We found the baseline model to have an accuracy of 84%. "
   ]
  },
  {
   "cell_type": "markdown",
   "metadata": {
    "application/vnd.databricks.v1+cell": {
     "cellMetadata": {},
     "inputWidgets": {},
     "nuid": "a0b5ae4b-caf7-41ac-9c8a-ec1522c12fbf",
     "showTitle": false,
     "title": ""
    }
   },
   "source": [
    "#### 1.1 Workflow Overview\n",
    "<img src='https://github.com/RaphaelYangWJ/w261/blob/main/phase_2_diagram.png?raw=true'>"
   ]
  },
  {
   "cell_type": "markdown",
   "metadata": {
    "application/vnd.databricks.v1+cell": {
     "cellMetadata": {
      "byteLimit": 2048000,
      "rowLimit": 10000
     },
     "inputWidgets": {},
     "nuid": "64e5a361-d1d0-4350-b00b-67bdc24c5314",
     "showTitle": false,
     "title": ""
    }
   },
   "source": [
    "### 2. Explore Data Analysis (EDA)"
   ]
  },
  {
   "cell_type": "markdown",
   "metadata": {
    "application/vnd.databricks.v1+cell": {
     "cellMetadata": {
      "byteLimit": 2048000,
      "rowLimit": 10000
     },
     "inputWidgets": {},
     "nuid": "1ebce28a-cbd7-489b-b5b6-f69c74cc44f0",
     "showTitle": false,
     "title": ""
    }
   },
   "source": [
    "#### 2.1 Overview of EDA\n",
    "\n",
    "<img src='https://github.com/RaphaelYangWJ/w261/blob/main/eda_1.png?raw=true'>\n",
    "<img src='https://github.com/RaphaelYangWJ/w261/blob/main/eda_2.png?raw=true'>"
   ]
  },
  {
   "cell_type": "markdown",
   "metadata": {
    "application/vnd.databricks.v1+cell": {
     "cellMetadata": {},
     "inputWidgets": {},
     "nuid": "fdbcb746-09a3-4ad4-9615-538b7da19067",
     "showTitle": false,
     "title": ""
    }
   },
   "source": [
    "- A data dictionary of the raw features (test description; data type: numerical, list, etc.)\n",
    "- Dataset size (rows columns, train, test, validation)\n",
    "- Summary statistics\n",
    "- Correlation analysis\n",
    "- Other useful text-based analysis (as opposed to graphic-based)"
   ]
  },
  {
   "cell_type": "markdown",
   "metadata": {
    "application/vnd.databricks.v1+cell": {
     "cellMetadata": {
      "byteLimit": 2048000,
      "rowLimit": 10000
     },
     "inputWidgets": {},
     "nuid": "edec9d93-a00e-4a98-838c-250ca0bfa3df",
     "showTitle": false,
     "title": ""
    }
   },
   "source": [
    "[**2.2 EDA on 3-month ATPW dataset Notebook**](https://adb-4248444930383559.19.azuredatabricks.net/?o=4248444930383559#notebook/3865911540702504)\n",
    "\n",
    "[**2.3 EDA on 12-month ATPW dataset notebook**](https://adb-4248444930383559.19.azuredatabricks.net/?o=4248444930383559#notebook/2798664673120485)"
   ]
  },
  {
   "cell_type": "markdown",
   "metadata": {
    "application/vnd.databricks.v1+cell": {
     "cellMetadata": {
      "byteLimit": 2048000,
      "rowLimit": 10000
     },
     "inputWidgets": {},
     "nuid": "d0b01748-78d4-43cf-abe4-949dc797c57e",
     "showTitle": false,
     "title": ""
    }
   },
   "source": [
    "### 3. Feature Selection & Time-based Feature Creation"
   ]
  },
  {
   "cell_type": "markdown",
   "metadata": {
    "application/vnd.databricks.v1+cell": {
     "cellMetadata": {
      "byteLimit": 2048000,
      "rowLimit": 10000
     },
     "inputWidgets": {},
     "nuid": "aa42944a-2234-4ec9-b33f-172d62522078",
     "showTitle": false,
     "title": ""
    }
   },
   "source": [
    "#### 3.1 Feature Selection Overview\n",
    "\n",
    "Overall we group features into three broad categories, Flight Factor, Climate Factor, and Temporal Factor. In addition, we construct two Time-based Features, which are selected based on the results of the EDA, the relevance of the variables, and their business logic. We think about how the variables affect aeroplane delay.\n",
    "\n",
    "- The Flight Factor is a set of features related to the flight record itself, including distance, taxi-out time, departure location, destination, aircraft carrier, and flight date. These characteristics affect aircraft flights to varying degrees.\n",
    "- The Climate Factor measures the environmental conditions of the aircraft during the flight. Overall, the worse the environmental conditions, the higher the likelihood that the aircraft will arrive late.\n",
    "- The Temporal Factor records the time aggregation effect of an aeroplane. Aircraft flight schedules are not evenly distributed. Depending on demand, weather, economic cycles, etc., there are always a few days in a month when an aeroplane's schedule is at its peak. The same time-aggregation effect also occurs during each work week. Typically, the more intensive the flight schedule, the higher the probability of delays.\n",
    "\n",
    "**Below graph shows the overview of feature selection result**\n",
    "\n",
    "<img src='https://github.com/RaphaelYangWJ/w261/blob/main/feature_selection.png?raw=true'>"
   ]
  },
  {
   "cell_type": "markdown",
   "metadata": {
    "application/vnd.databricks.v1+cell": {
     "cellMetadata": {
      "byteLimit": 2048000,
      "rowLimit": 10000
     },
     "inputWidgets": {},
     "nuid": "7eda301c-5da9-43c3-8bc5-66e91300e95e",
     "showTitle": false,
     "title": ""
    }
   },
   "source": [
    "#### 3.2 Features Selection Reasons\n",
    "\n",
    "##### Input Features Details\n",
    "\n",
    "| Sequence | Feature (X)               | Data Type                       | Feature Explanation                                          | Reason for selection                                         |\n",
    "| :------- | :------------------------ | :------------------------------ | :----------------------------------------------------------- | :----------------------------------------------------------- |\n",
    "| 1        | MONTH                     | Integer (Categorical for model) | the month the flight                                         | Based on EDA, delays have trends with time, showing seasonal effects. The month can give the model time-clustering effect information. We expect June to August will have more flights than other months in one year. |\n",
    "| 2        | DAY_OF_MONTH              | Integer (Categorical for model) | the day of month for the flight                              | Based on EDA, delays have a clustering effect on some days of the month. Similar to month, this feature can convey time-clustering information. |\n",
    "| 3        | DAY_OF_WEEK               | Integer (Categorical for model) | the day of week for the flight                               | Based on EDA, delays have a clustering effect on some days of the week. |\n",
    "| 4        | OP_UNIQUE_CARRIER         | Categorical                     | Carrier code that represents the carrier company             | This indicates the carrier for the flight. Based on EDA, the Carrier is responsible for delay flights to some degree. Carriers have different policies and arrangements for their flights. These differences from Carriers might also impact flight delays. |\n",
    "| 5        | ORIGIN                    | Categorical                     | airport for flight origination                               | It indicates the flight origination as well as the airport introducing the airport's impact on delays. Normally, those origins with a high volume of flights might have more delays. |\n",
    "| 6        | DEST                      | Categorical                     | airport for flight destination                               | It indicates the flight destination as well as the airport introducing the airport's impact on delays. Destination also plays an important role in flight delays. If a destination is overloaded with flight arrangements, it is likely to have flight delays. |\n",
    "| 7        | TAXI_OUT                  | Integer                         | Time interval between the departure flight pushing back from the stand and taxiing to the actual takeoff | This factor contributes to the total time for the flight and delays. Normally, longer taxi-out time leads to the high probability of delays. |\n",
    "| 8        | DISTANCE                  | Integer                         | flight distance                                              | It indicates the flight distance. We expect that longer distance is more likely to have delays. Longer distance means more uncertainty during flights, increasing the probability of delays. |\n",
    "| 9        | HourlyDewPointTemperature | Integer                         | Dew point temperature (the temperature at which air is saturated with water vapor, which is the gaseous state of water.) | This belongs to the climate factor which will impact flight time. Temperature will influence the flight conditions. |\n",
    "| 10       | HourlyPrecipitation       | Integer                         | Precipitation                                                | This belongs to the climate factor which will impact flight. Higher precipitation normally will cause delays. |\n",
    "| 11       | HourlyPressureChange      | Integer                         | Pressure change                                              | This belongs to the climate factor which will impact flight. A huge Pressure change is highly likely to impact the flight's condition and cause delays. |\n",
    "| 12       | HourlyRelativeHumidity    | Integer                         | Relative humidity                                            | This belongs to the climate factor which will impact flight. Humidity is also a monitoring metric for the pilots during the flight. |\n",
    "| 13       | HourlySeaLevelPressure    | Integer                         | Sea level pressure                                           | This belongs to the climate factor which will impact flight. Sea level pressure influences the flight quality and condition when an airplane flies above the sea. |\n",
    "| 14       | HourlyVisibility          | Integer                         | Visibility                                                   | This belongs to the climate factor which will impact flight. Poor visibility will obviously negatively impact flight conditions. |\n",
    "| 15       | HourlyWindDirection       | Integer                         | Wind direction from 0 to 360                                 | This belongs to the climate factor which will impact flight. Wind direction and speed greatly influence the flight condition. |\n",
    "| 16       | HourlyWindGustSpeed       | Integer                         | Wind gust speed                                              | This belongs to the climate factor which will impact flight. |\n",
    "| 17       | HourlyWindSpeed           | Integer                         | Wind speed                                                   | This belongs to the climate factor which will impact flight. |\n",
    "| 18       | FL_DATE                   | Date                            | Flight Date                                                  | It specifies the date of this flight, which will be used to create time-based features. |\n",
    "| 19       | DAYS_SINCE_LAST_DELAY     | Time-based Feature              | How long ago was the delayed for a specific carrier, origin and destination. | It shows the recency between two delays. The model can learn the recency information based on this feature. |\n",
    "| 20       | DELAY_FREQ_LAST_30_DAYS   | Time-based Feature              | The relevant frequency (in percentage) of flight delays in the past 30 days for a specific carrier, origin and destination. | It specifies the frequency of delays within one month, which conveys useful information about delay numbers for the model to learn. |\n",
    "\n",
    "\n",
    "\n",
    "##### Output Feature Details\n",
    "\n",
    "| Feature (Y) | Feature (Y) | Data Type            | Feature Explanation                                          | Reason for selection                                         |\n",
    "| ----------- | ----------- | -------------------- | ------------------------------------------------------------ | ------------------------------------------------------------ |\n",
    "| 1 | DEP_DEL15   | Categorical (Binary) | delays >= 15 minutes will be classified as delay and labelled as 1 | This binary variable can be treated as the label for departure delay modeling. |\n",
    "\n",
    "\n",
    "##### References\n",
    "1. R. Nigam and K. Govinda, \"Cloud based flight delay prediction using logistic regression,\" 2017 International Conference on Intelligent Sustainable Systems (ICISS), Palladam, India, 2017, pp. 662-667, doi: 10.1109/ISS1.2017.8389254.\n",
    "2. Yuemin Tang. 2021. Airline Flight Delay Prediction Using Machine Learning Models. In 2021 5th International Conference on E-Business and Internet (ICEBI 2021), October 15-17, 2021, Singapore, Singapore. ACM, New York, NY, USA, 7 Pages. https://doi.org/10.1145/3497701.3497725"
   ]
  },
  {
   "cell_type": "markdown",
   "metadata": {
    "application/vnd.databricks.v1+cell": {
     "cellMetadata": {
      "byteLimit": 2048000,
      "rowLimit": 10000
     },
     "inputWidgets": {},
     "nuid": "8a5231de-bfa1-458c-9838-770237074aa2",
     "showTitle": false,
     "title": ""
    }
   },
   "source": [
    "#### 3.3 Time-based feature Creation\n",
    "\n",
    "RFM stands for Recency, Frequency, and Monetary Value. In our project, we introduced this concepts to create time-based features to enrich the feature data.\n",
    "\n",
    "**Take 'carrier' as the object to generate time-based features. The time interval we set is one month. Here are some examples:**\n",
    "- **Recency (R)**: Given the origination anf destination, how recently a carrier got a delayed flight. The time interval between two delays.\n",
    "- **Frequency (F)**: This might represents the monthly flight frequency of an airline carieer given origination and destination.\n",
    "- **Monetary Value (M)**: It computes the summation value / average value of flight distances, flight average temperatues, total delay times per month for an airline carrier.\n",
    "\n",
    "**In feature engineering, we tried to do time-based feature generation from the perspective of carriers. These features will be used for modeling part. Below graph shows the process of RFM.**\n",
    "\n",
    "<img src='https://github.com/RaphaelYangWJ/w261/blob/main/time-based feature.png?raw=true'>\n",
    "\n",
    "\n",
    "**References:**\n",
    "1. \"RFM Analysis - Understanding Customer Behavior\" by SuperOffice: https://www.superoffice.com/blog/rfm-analysis/\n",
    "2. \"RFM (recency, frequency, monetary) analysis\" by IBM:https://www.ibm.com/cloud/learn/rfm-analysis"
   ]
  },
  {
   "cell_type": "markdown",
   "metadata": {
    "application/vnd.databricks.v1+cell": {
     "cellMetadata": {
      "byteLimit": 2048000,
      "rowLimit": 10000
     },
     "inputWidgets": {},
     "nuid": "63a8837e-f61f-49a9-a0c2-e122a42224ee",
     "showTitle": false,
     "title": ""
    }
   },
   "source": [
    "[**3.4 Feature Selection Notebook**](https://adb-4248444930383559.19.azuredatabricks.net/?o=4248444930383559#notebook/1871383191021936)"
   ]
  },
  {
   "cell_type": "markdown",
   "metadata": {
    "application/vnd.databricks.v1+cell": {
     "cellMetadata": {
      "byteLimit": 2048000,
      "rowLimit": 10000
     },
     "inputWidgets": {},
     "nuid": "375c1335-b199-4335-ad90-5ea5c9f0ae5c",
     "showTitle": false,
     "title": ""
    }
   },
   "source": [
    "### 4. Feature Engineering"
   ]
  },
  {
   "cell_type": "markdown",
   "metadata": {
    "application/vnd.databricks.v1+cell": {
     "cellMetadata": {
      "byteLimit": 2048000,
      "rowLimit": 10000
     },
     "inputWidgets": {},
     "nuid": "402aa1ea-724e-4f7a-af08-396ec3dfa295",
     "showTitle": false,
     "title": ""
    }
   },
   "source": [
    "**We performed the following steps on the 12-month ATPW dataset**\n",
    "* Data cleaning and transformation\n",
    "* **PCA** for dimensionality reduction "
   ]
  },
  {
   "cell_type": "markdown",
   "metadata": {
    "application/vnd.databricks.v1+cell": {
     "cellMetadata": {
      "byteLimit": 2048000,
      "rowLimit": 10000
     },
     "inputWidgets": {},
     "nuid": "73841405-a947-49ed-93f6-1263bac7f66e",
     "showTitle": false,
     "title": ""
    }
   },
   "source": [
    "[**4.1 Feature Engineering Notebook**](https://adb-4248444930383559.19.azuredatabricks.net/?o=4248444930383559#notebook/2798664673122950)"
   ]
  },
  {
   "cell_type": "markdown",
   "metadata": {
    "application/vnd.databricks.v1+cell": {
     "cellMetadata": {
      "byteLimit": 2048000,
      "rowLimit": 10000
     },
     "inputWidgets": {},
     "nuid": "aa0a77c5-afc6-40dc-950a-add940ce73ab",
     "showTitle": false,
     "title": ""
    }
   },
   "source": [
    "### 5. Machine Learning Pipeline"
   ]
  },
  {
   "cell_type": "markdown",
   "metadata": {
    "application/vnd.databricks.v1+cell": {
     "cellMetadata": {
      "byteLimit": 2048000,
      "rowLimit": 10000
     },
     "inputWidgets": {},
     "nuid": "0528568d-0281-460d-b01d-a6741001cc3e",
     "showTitle": false,
     "title": ""
    }
   },
   "source": [
    "**ML Pipeline**\n",
    "* **Logistic regression**\n",
    "* Cross-validation in time series data\n",
    "  * Validate model performance\n",
    "  * Hyper-parameter tuning with **grid search**\n",
    "* Evaluation on the test set\n",
    "  * Training set (first 3 quarters)\n",
    "  * Test set (last quarter)"
   ]
  },
  {
   "cell_type": "markdown",
   "metadata": {
    "application/vnd.databricks.v1+cell": {
     "cellMetadata": {
      "byteLimit": 2048000,
      "rowLimit": 10000
     },
     "inputWidgets": {},
     "nuid": "833c4703-e6a2-4752-a77f-23741ed971b3",
     "showTitle": false,
     "title": ""
    }
   },
   "source": [
    "[**5.1 ML Pipeline with time-series cross val complete**](https://adb-4248444930383559.19.azuredatabricks.net/?o=4248444930383559#notebook/1537154891797972)"
   ]
  },
  {
   "cell_type": "markdown",
   "metadata": {
    "application/vnd.databricks.v1+cell": {
     "cellMetadata": {
      "byteLimit": 2048000,
      "rowLimit": 10000
     },
     "inputWidgets": {},
     "nuid": "3e7e3f12-83b8-4889-8d38-7def2205eb4b",
     "showTitle": false,
     "title": ""
    }
   },
   "source": [
    "### 6. Performance on test set"
   ]
  },
  {
   "cell_type": "markdown",
   "metadata": {
    "application/vnd.databricks.v1+cell": {
     "cellMetadata": {
      "byteLimit": 2048000,
      "rowLimit": 10000
     },
     "inputWidgets": {},
     "nuid": "47f605b3-bbd1-46d2-a0e1-f4e172f4c7e2",
     "showTitle": false,
     "title": ""
    }
   },
   "source": [
    "| Metrics   | Without tuning | With tuning\n",
    "| --------- | ----- | ----- |\n",
    "| AUC       | 0.67 | 0.69 |\n",
    "| Accuracy  | 0.84 | 0.84 |\n",
    "| Precision | 0.84 | 0.84 |\n",
    "| Recall    | 0.99 | 0.99 |\n",
    "| F1        | 0.77 | 0.77 |"
   ]
  },
  {
   "cell_type": "markdown",
   "metadata": {
    "application/vnd.databricks.v1+cell": {
     "cellMetadata": {
      "byteLimit": 2048000,
      "rowLimit": 10000
     },
     "inputWidgets": {},
     "nuid": "0ae29685-2b7c-4adf-8f7d-89d2d20679d6",
     "showTitle": false,
     "title": ""
    }
   },
   "source": [
    "### 7. Finding, Insights & Next Step in Phase III"
   ]
  },
  {
   "cell_type": "markdown",
   "metadata": {
    "application/vnd.databricks.v1+cell": {
     "cellMetadata": {
      "byteLimit": 2048000,
      "rowLimit": 10000
     },
     "inputWidgets": {},
     "nuid": "e2a5ee33-9cac-4dda-843f-0b774d141d2a",
     "showTitle": false,
     "title": ""
    }
   },
   "source": [
    "#### 7.1 Findings & Insights\n",
    "<br>\n",
    "\n",
    "- **Imbalanced Data:** The high accuracy (0.84) and precision (0.84) coupled with a recall of 0.99 suggest potential class imbalance. The model seems to be predicting the majority class (probably \"not delayed\") well but struggling with the minority class (likely \"delayed\").\n",
    "- **AUC Score:** The AUC (Area Under the Curve) value of 0.69 indicates moderate discrimination ability. It could be improved, but it's okay.\n",
    "- **F1 Score:** The F1 score is a balance between precision and recall. With a value of 0.77, there's room for improvement.\n",
    "- **The time-based features** increased the model AUC by 2%.\n",
    "- **Hyper-parameter tuning** - Hyper-parameter tuning did not improve the model performance significantly. "
   ]
  },
  {
   "cell_type": "markdown",
   "metadata": {
    "application/vnd.databricks.v1+cell": {
     "cellMetadata": {
      "byteLimit": 2048000,
      "rowLimit": 10000
     },
     "inputWidgets": {},
     "nuid": "5ed7e8e1-2ab1-4d02-8cd2-13e9a98f1a0a",
     "showTitle": false,
     "title": ""
    }
   },
   "source": [
    "#### 7.2 Next Step in Phase III\n",
    "<br>\n",
    "\n",
    "- **Class imbalance:** Implement techniques to handle class imbalance, such as oversampling the minority class, under sampling the majority class.\n",
    "- **Feature engineering:** Explore and create new features that might have predictive power. We plan to find external dataset for modeling by considering US Holidays, or create more time-based features.\n",
    "- **Customized Dataset Generation:** Integrate holiday information is a good idea, as travel patterns during holidays can significantly impact flight delays. We plan to join the ATPW dataset with external Holiday dataset at state level.\n",
    "- **Model Selection:** We plan to perform MLP and other models in Phase III.\n",
    "- **Hyperparameter Tuning:** Fine-tune hyperparameters of the logistic regression model or other algorithms to find the optimal configuration for your specific problem.\n",
    "- **Analyze Misclassifications:** Examine instances where the model fails (e.g., false positives/negatives) to identify patterns or common characteristics that the model struggles with."
   ]
  },
  {
   "cell_type": "markdown",
   "metadata": {
    "application/vnd.databricks.v1+cell": {
     "cellMetadata": {},
     "inputWidgets": {},
     "nuid": "f15c0574-f71c-40f9-b608-99e386d7ea7a",
     "showTitle": false,
     "title": ""
    }
   },
   "source": [
    "### 8. Conclusion"
   ]
  },
  {
   "cell_type": "markdown",
   "metadata": {
    "application/vnd.databricks.v1+cell": {
     "cellMetadata": {},
     "inputWidgets": {},
     "nuid": "2856d601-2e0e-471d-92b5-eb957ee3bcbd",
     "showTitle": false,
     "title": ""
    }
   },
   "source": [
    "In phase 2, we carried out a deeper EDA on the 3-month and 12-month OTPW datasets. We selected a set of features along with engineered time-based features to improve our ML pipeline. Standard data processing techniques such as data imputation, one-hot encoding, and data normalization were implemented to convert the data into a ML-readable form. Last but not least, we conducted experiments to examine the usefulness of hyper-parameter tuning, and observed little improvement. Overall, what we have gotten so far inspires us to work more carefully with feature engineering and create more complex models to explore the space of improvement. "
   ]
  }
 ],
 "metadata": {
  "application/vnd.databricks.v1+notebook": {
   "dashboards": [],
   "language": "python",
   "notebookMetadata": {
    "pythonIndentUnit": 4
   },
   "notebookName": "FP Phase 2 team 7-1",
   "widgets": {}
  }
 },
 "nbformat": 4,
 "nbformat_minor": 0
}
