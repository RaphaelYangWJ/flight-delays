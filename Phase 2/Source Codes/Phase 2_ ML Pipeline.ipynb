{
 "cells": [
  {
   "cell_type": "code",
   "execution_count": 0,
   "metadata": {
    "application/vnd.databricks.v1+cell": {
     "cellMetadata": {
      "byteLimit": 2048000,
      "rowLimit": 10000
     },
     "inputWidgets": {},
     "nuid": "79515a3c-6591-4b3a-87e3-40cdce495094",
     "showTitle": false,
     "title": ""
    }
   },
   "outputs": [],
   "source": [
    "import math \n",
    "import pyspark\n",
    "from pyspark import SparkContext\n",
    "from pyspark.sql.functions import max, col, count, when, isnan\n",
    "from pyspark.sql import functions as F\n",
    "from pyspark.sql.functions import udf\n",
    "from pyspark.sql.types import IntegerType, StringType\n",
    "from pyspark.ml.feature import (Imputer, \n",
    "                                MinMaxScaler, \n",
    "                                VectorAssembler,\n",
    "                                StandardScaler,\n",
    "                                StringIndexer, \n",
    "                                OneHotEncoder,\n",
    "                                PCA)\n",
    "from pyspark.ml import Pipeline\n",
    "from pyspark.ml.classification import LogisticRegression\n",
    "from pyspark.ml.evaluation import BinaryClassificationEvaluator\n",
    "from pyspark.ml.tuning import CrossValidator, ParamGridBuilder\n",
    "from pyspark.ml.regression import LinearRegression\n"
   ]
  },
  {
   "cell_type": "markdown",
   "metadata": {
    "application/vnd.databricks.v1+cell": {
     "cellMetadata": {
      "byteLimit": 2048000,
      "rowLimit": 10000
     },
     "inputWidgets": {},
     "nuid": "1564bb63-1401-40d8-93cf-c6debd80cf74",
     "showTitle": false,
     "title": ""
    }
   },
   "source": [
    "### Setup"
   ]
  },
  {
   "cell_type": "code",
   "execution_count": 0,
   "metadata": {
    "application/vnd.databricks.v1+cell": {
     "cellMetadata": {
      "byteLimit": 2048000,
      "rowLimit": 10000
     },
     "inputWidgets": {},
     "nuid": "1900a857-258e-43d5-9b95-29061b71c519",
     "showTitle": false,
     "title": ""
    }
   },
   "outputs": [],
   "source": [
    "secret_scope = \"w261\"\n",
    "secret_key   = \"w261-scope-key\"    \n",
    "blob_container  = \"w261-team-7-1\"\n",
    "storage_account = \"w261team71\"\n",
    "team_blob_url = f\"wasbs://{blob_container}@{storage_account}.blob.core.windows.net\"\n",
    "\n",
    "spark.conf.set(\n",
    "  f\"fs.azure.sas.{blob_container}.{storage_account}.blob.core.windows.net\",\n",
    "  dbutils.secrets.get(scope = secret_scope, key = secret_key)\n",
    ")"
   ]
  },
  {
   "cell_type": "code",
   "execution_count": 0,
   "metadata": {
    "application/vnd.databricks.v1+cell": {
     "cellMetadata": {
      "byteLimit": 2048000,
      "rowLimit": 10000
     },
     "inputWidgets": {},
     "nuid": "d3f103ba-2091-463d-bf8c-0066a5e44248",
     "showTitle": false,
     "title": ""
    }
   },
   "outputs": [
    {
     "output_type": "display_data",
     "data": {
      "text/html": [
       "<style scoped>\n",
       "  .table-result-container {\n",
       "    max-height: 300px;\n",
       "    overflow: auto;\n",
       "  }\n",
       "  table, th, td {\n",
       "    border: 1px solid black;\n",
       "    border-collapse: collapse;\n",
       "  }\n",
       "  th, td {\n",
       "    padding: 5px;\n",
       "  }\n",
       "  th {\n",
       "    text-align: left;\n",
       "  }\n",
       "</style><div class='table-result-container'><table class='table-result'><thead style='background-color: white'><tr><th>path</th><th>name</th><th>size</th><th>modificationTime</th></tr></thead><tbody><tr><td>wasbs://w261-team-7-1@w261team71.blob.core.windows.net/otpw_12m/pca_data/train/_SUCCESS</td><td>_SUCCESS</td><td>0</td><td>1700415370000</td></tr><tr><td>wasbs://w261-team-7-1@w261team71.blob.core.windows.net/otpw_12m/pca_data/train/_committed_3477442606972160090</td><td>_committed_3477442606972160090</td><td>924</td><td>1700415369000</td></tr><tr><td>wasbs://w261-team-7-1@w261team71.blob.core.windows.net/otpw_12m/pca_data/train/_started_3477442606972160090</td><td>_started_3477442606972160090</td><td>0</td><td>1700415351000</td></tr><tr><td>wasbs://w261-team-7-1@w261team71.blob.core.windows.net/otpw_12m/pca_data/train/part-00000-tid-3477442606972160090-d676cf0b-212b-457c-ba0b-0b42add3ba75-566-1-c000.snappy.parquet</td><td>part-00000-tid-3477442606972160090-d676cf0b-212b-457c-ba0b-0b42add3ba75-566-1-c000.snappy.parquet</td><td>185855230</td><td>1700415367000</td></tr><tr><td>wasbs://w261-team-7-1@w261team71.blob.core.windows.net/otpw_12m/pca_data/train/part-00001-tid-3477442606972160090-d676cf0b-212b-457c-ba0b-0b42add3ba75-567-1-c000.snappy.parquet</td><td>part-00001-tid-3477442606972160090-d676cf0b-212b-457c-ba0b-0b42add3ba75-567-1-c000.snappy.parquet</td><td>195186115</td><td>1700415363000</td></tr><tr><td>wasbs://w261-team-7-1@w261team71.blob.core.windows.net/otpw_12m/pca_data/train/part-00002-tid-3477442606972160090-d676cf0b-212b-457c-ba0b-0b42add3ba75-568-1-c000.snappy.parquet</td><td>part-00002-tid-3477442606972160090-d676cf0b-212b-457c-ba0b-0b42add3ba75-568-1-c000.snappy.parquet</td><td>193991930</td><td>1700415368000</td></tr><tr><td>wasbs://w261-team-7-1@w261team71.blob.core.windows.net/otpw_12m/pca_data/train/part-00003-tid-3477442606972160090-d676cf0b-212b-457c-ba0b-0b42add3ba75-569-1-c000.snappy.parquet</td><td>part-00003-tid-3477442606972160090-d676cf0b-212b-457c-ba0b-0b42add3ba75-569-1-c000.snappy.parquet</td><td>193473042</td><td>1700415362000</td></tr><tr><td>wasbs://w261-team-7-1@w261team71.blob.core.windows.net/otpw_12m/pca_data/train/part-00004-tid-3477442606972160090-d676cf0b-212b-457c-ba0b-0b42add3ba75-570-1-c000.snappy.parquet</td><td>part-00004-tid-3477442606972160090-d676cf0b-212b-457c-ba0b-0b42add3ba75-570-1-c000.snappy.parquet</td><td>198872152</td><td>1700415368000</td></tr><tr><td>wasbs://w261-team-7-1@w261team71.blob.core.windows.net/otpw_12m/pca_data/train/part-00005-tid-3477442606972160090-d676cf0b-212b-457c-ba0b-0b42add3ba75-571-1-c000.snappy.parquet</td><td>part-00005-tid-3477442606972160090-d676cf0b-212b-457c-ba0b-0b42add3ba75-571-1-c000.snappy.parquet</td><td>199701817</td><td>1700415363000</td></tr><tr><td>wasbs://w261-team-7-1@w261team71.blob.core.windows.net/otpw_12m/pca_data/train/part-00006-tid-3477442606972160090-d676cf0b-212b-457c-ba0b-0b42add3ba75-572-1-c000.snappy.parquet</td><td>part-00006-tid-3477442606972160090-d676cf0b-212b-457c-ba0b-0b42add3ba75-572-1-c000.snappy.parquet</td><td>198516483</td><td>1700415368000</td></tr><tr><td>wasbs://w261-team-7-1@w261team71.blob.core.windows.net/otpw_12m/pca_data/train/part-00007-tid-3477442606972160090-d676cf0b-212b-457c-ba0b-0b42add3ba75-573-1-c000.snappy.parquet</td><td>part-00007-tid-3477442606972160090-d676cf0b-212b-457c-ba0b-0b42add3ba75-573-1-c000.snappy.parquet</td><td>198276452</td><td>1700415363000</td></tr><tr><td>wasbs://w261-team-7-1@w261team71.blob.core.windows.net/otpw_12m/pca_data/train/part-00008-tid-3477442606972160090-d676cf0b-212b-457c-ba0b-0b42add3ba75-574-1-c000.snappy.parquet</td><td>part-00008-tid-3477442606972160090-d676cf0b-212b-457c-ba0b-0b42add3ba75-574-1-c000.snappy.parquet</td><td>41258380</td><td>1700415365000</td></tr></tbody></table></div>"
      ]
     },
     "metadata": {
      "application/vnd.databricks.v1+output": {
       "addedWidgets": {},
       "aggData": [],
       "aggError": "",
       "aggOverflow": false,
       "aggSchema": [],
       "aggSeriesLimitReached": false,
       "aggType": "",
       "arguments": {},
       "columnCustomDisplayInfos": {},
       "data": [
        [
         "wasbs://w261-team-7-1@w261team71.blob.core.windows.net/otpw_12m/pca_data/train/_SUCCESS",
         "_SUCCESS",
         0,
         1700415370000
        ],
        [
         "wasbs://w261-team-7-1@w261team71.blob.core.windows.net/otpw_12m/pca_data/train/_committed_3477442606972160090",
         "_committed_3477442606972160090",
         924,
         1700415369000
        ],
        [
         "wasbs://w261-team-7-1@w261team71.blob.core.windows.net/otpw_12m/pca_data/train/_started_3477442606972160090",
         "_started_3477442606972160090",
         0,
         1700415351000
        ],
        [
         "wasbs://w261-team-7-1@w261team71.blob.core.windows.net/otpw_12m/pca_data/train/part-00000-tid-3477442606972160090-d676cf0b-212b-457c-ba0b-0b42add3ba75-566-1-c000.snappy.parquet",
         "part-00000-tid-3477442606972160090-d676cf0b-212b-457c-ba0b-0b42add3ba75-566-1-c000.snappy.parquet",
         185855230,
         1700415367000
        ],
        [
         "wasbs://w261-team-7-1@w261team71.blob.core.windows.net/otpw_12m/pca_data/train/part-00001-tid-3477442606972160090-d676cf0b-212b-457c-ba0b-0b42add3ba75-567-1-c000.snappy.parquet",
         "part-00001-tid-3477442606972160090-d676cf0b-212b-457c-ba0b-0b42add3ba75-567-1-c000.snappy.parquet",
         195186115,
         1700415363000
        ],
        [
         "wasbs://w261-team-7-1@w261team71.blob.core.windows.net/otpw_12m/pca_data/train/part-00002-tid-3477442606972160090-d676cf0b-212b-457c-ba0b-0b42add3ba75-568-1-c000.snappy.parquet",
         "part-00002-tid-3477442606972160090-d676cf0b-212b-457c-ba0b-0b42add3ba75-568-1-c000.snappy.parquet",
         193991930,
         1700415368000
        ],
        [
         "wasbs://w261-team-7-1@w261team71.blob.core.windows.net/otpw_12m/pca_data/train/part-00003-tid-3477442606972160090-d676cf0b-212b-457c-ba0b-0b42add3ba75-569-1-c000.snappy.parquet",
         "part-00003-tid-3477442606972160090-d676cf0b-212b-457c-ba0b-0b42add3ba75-569-1-c000.snappy.parquet",
         193473042,
         1700415362000
        ],
        [
         "wasbs://w261-team-7-1@w261team71.blob.core.windows.net/otpw_12m/pca_data/train/part-00004-tid-3477442606972160090-d676cf0b-212b-457c-ba0b-0b42add3ba75-570-1-c000.snappy.parquet",
         "part-00004-tid-3477442606972160090-d676cf0b-212b-457c-ba0b-0b42add3ba75-570-1-c000.snappy.parquet",
         198872152,
         1700415368000
        ],
        [
         "wasbs://w261-team-7-1@w261team71.blob.core.windows.net/otpw_12m/pca_data/train/part-00005-tid-3477442606972160090-d676cf0b-212b-457c-ba0b-0b42add3ba75-571-1-c000.snappy.parquet",
         "part-00005-tid-3477442606972160090-d676cf0b-212b-457c-ba0b-0b42add3ba75-571-1-c000.snappy.parquet",
         199701817,
         1700415363000
        ],
        [
         "wasbs://w261-team-7-1@w261team71.blob.core.windows.net/otpw_12m/pca_data/train/part-00006-tid-3477442606972160090-d676cf0b-212b-457c-ba0b-0b42add3ba75-572-1-c000.snappy.parquet",
         "part-00006-tid-3477442606972160090-d676cf0b-212b-457c-ba0b-0b42add3ba75-572-1-c000.snappy.parquet",
         198516483,
         1700415368000
        ],
        [
         "wasbs://w261-team-7-1@w261team71.blob.core.windows.net/otpw_12m/pca_data/train/part-00007-tid-3477442606972160090-d676cf0b-212b-457c-ba0b-0b42add3ba75-573-1-c000.snappy.parquet",
         "part-00007-tid-3477442606972160090-d676cf0b-212b-457c-ba0b-0b42add3ba75-573-1-c000.snappy.parquet",
         198276452,
         1700415363000
        ],
        [
         "wasbs://w261-team-7-1@w261team71.blob.core.windows.net/otpw_12m/pca_data/train/part-00008-tid-3477442606972160090-d676cf0b-212b-457c-ba0b-0b42add3ba75-574-1-c000.snappy.parquet",
         "part-00008-tid-3477442606972160090-d676cf0b-212b-457c-ba0b-0b42add3ba75-574-1-c000.snappy.parquet",
         41258380,
         1700415365000
        ]
       ],
       "datasetInfos": [],
       "dbfsResultPath": null,
       "isJsonSchema": true,
       "metadata": {},
       "overflow": false,
       "plotOptions": {
        "customPlotOptions": {},
        "displayType": "table",
        "pivotAggregation": null,
        "pivotColumns": null,
        "xColumns": null,
        "yColumns": null
       },
       "removedWidgets": [],
       "schema": [
        {
         "metadata": "{}",
         "name": "path",
         "type": "\"string\""
        },
        {
         "metadata": "{}",
         "name": "name",
         "type": "\"string\""
        },
        {
         "metadata": "{}",
         "name": "size",
         "type": "\"long\""
        },
        {
         "metadata": "{}",
         "name": "modificationTime",
         "type": "\"long\""
        }
       ],
       "type": "table"
      }
     },
     "output_type": "display_data"
    }
   ],
   "source": [
    "display(dbutils.fs.ls(f\"{team_blob_url}/otpw_12m/pca_data/train/\"))"
   ]
  },
  {
   "cell_type": "code",
   "execution_count": 0,
   "metadata": {
    "application/vnd.databricks.v1+cell": {
     "cellMetadata": {
      "byteLimit": 2048000,
      "rowLimit": 10000
     },
     "inputWidgets": {},
     "nuid": "d892b37d-d7e2-4a7c-89af-f9f758b9f343",
     "showTitle": false,
     "title": ""
    }
   },
   "outputs": [],
   "source": [
    "def read_data(dataset=\"otpw_12m\", data_type=\"pca\", split=\"train\"):\n",
    "    path = f\"{team_blob_url}/{dataset}/{data_type}_data/{split}/\"\n",
    "    print(f\"\\nData path: {path}\\n\")\n",
    "    data = spark.read.parquet(path).withColumnRenamed(\"DEP_DEL15\", \"label\")\n",
    "    return data"
   ]
  },
  {
   "cell_type": "code",
   "execution_count": 0,
   "metadata": {
    "application/vnd.databricks.v1+cell": {
     "cellMetadata": {
      "byteLimit": 2048000,
      "rowLimit": 10000
     },
     "inputWidgets": {},
     "nuid": "db81d4c9-2a55-4eb2-b066-229e08e5a440",
     "showTitle": false,
     "title": ""
    }
   },
   "outputs": [
    {
     "output_type": "stream",
     "name": "stdout",
     "output_type": "stream",
     "text": [
      "\nData path: wasbs://w261-team-7-1@w261team71.blob.core.windows.net/otpw_12m/full_data/train/\n\n"
     ]
    }
   ],
   "source": [
    "def crossval_baseline_model(data):\n",
    "\n",
    "    model = LogisticRegression(maxIter=10, elasticNetParam=0.5, featuresCol = \"pca_features\")\n",
    "\n",
    "    pca = PCA(k=100, inputCol=\"feature_vec\", outputCol=\"pca_features\")\n",
    "\n",
    "    pipeline = Pipeline(stages=[pca, model])\n",
    "\n",
    "    # Build the parameter grid for model tuning\n",
    "    paramGrid = ParamGridBuilder() \\\n",
    "                .addGrid(model.regParam, [0.1, 0.01]) \\\n",
    "                .addGrid(pca.k, [50,100,200]) \\\n",
    "                .build()\n",
    "\n",
    "    # Execute CrossValidator for model tuning\n",
    "    crossval = CrossValidator(estimator=pipeline,\n",
    "                                        estimatorParamMaps=paramGrid,\n",
    "                                        evaluator=BinaryClassificationEvaluator(),\n",
    "                                        numFolds=5) \n",
    "    \n",
    "\n",
    "    # Train the tuned model and establish our best model\n",
    "    cvModel = crossval.fit(data)\n",
    "    best_model = cvModel.bestModel\n",
    "\n",
    "    return best_model\n"
   ]
  },
  {
   "cell_type": "code",
   "execution_count": 0,
   "metadata": {
    "application/vnd.databricks.v1+cell": {
     "cellMetadata": {
      "byteLimit": 2048000,
      "rowLimit": 10000
     },
     "inputWidgets": {},
     "nuid": "e95cbc1d-d0a3-4835-86e4-60a3e3e44b87",
     "showTitle": false,
     "title": ""
    }
   },
   "outputs": [
    {
     "output_type": "stream",
     "name": "stdout",
     "output_type": "stream",
     "text": [
      "\nData path: wasbs://w261-team-7-1@w261team71.blob.core.windows.net/otpw_12m/pca_data/train/\n\n\nData path: wasbs://w261-team-7-1@w261team71.blob.core.windows.net/otpw_12m/pca_data/test/\n\n"
     ]
    }
   ],
   "source": [
    "train_data = read_data()\n",
    "test_data = read_data(split='test')\n",
    "# Create a Linear Regression model\n",
    "lr = LinearRegression(featuresCol=\"pca_features\", labelCol=\"label\")\n",
    "\n",
    "# Fit the model\n",
    "lr_model = lr.fit(train_data)\n",
    "\n",
    "# Evaluate the model\n",
    "predictions = lr_model.transform(test_data)"
   ]
  },
  {
   "cell_type": "code",
   "execution_count": 0,
   "metadata": {
    "application/vnd.databricks.v1+cell": {
     "cellMetadata": {
      "byteLimit": 2048000,
      "rowLimit": 10000
     },
     "inputWidgets": {},
     "nuid": "23c9f140-3f2f-46ee-b0cd-6b994c0d064e",
     "showTitle": false,
     "title": ""
    }
   },
   "outputs": [
    {
     "output_type": "stream",
     "name": "stdout",
     "output_type": "stream",
     "text": [
      "\nData path: wasbs://w261-team-7-1@w261team71.blob.core.windows.net/otpw_12m/full_data/train/\n\n"
     ]
    },
    {
     "output_type": "execute_result",
     "data": {
      "text/plain": [
       "DataFrame[DEP_TIME: int, MONTH: int, FL_DATE: date, DAY_OF_MONTH: int, DAY_OF_WEEK: int, OP_UNIQUE_CARRIER: string, ORIGIN: string, TAXI_OUT: int, DISTANCE: int, HourlyDewPointTemperature: int, HourlyPrecipitation: float, HourlyPressureChange: float, HourlyRelativeHumidity: int, HourlySeaLevelPressure: float, HourlyVisibility: float, HourlyWindDirection: int, HourlyWindGustSpeed: int, HourlyWindSpeed: int, label: int, vec_features: vector, scaled_features: vector, OP_UNIQUE_CARRIER_index: double, OP_UNIQUE_CARRIER_vec: vector, ORIGIN_index: double, ORIGIN_vec: vector, feature_vec: vector, pca_features: vector]"
      ]
     },
     "execution_count": 29,
     "metadata": {},
     "output_type": "execute_result"
    }
   ],
   "source": [
    "train_data = read_data(data_type=\"full\")\n",
    "train_data"
   ]
  },
  {
   "cell_type": "code",
   "execution_count": 0,
   "metadata": {
    "application/vnd.databricks.v1+cell": {
     "cellMetadata": {
      "byteLimit": 2048000,
      "rowLimit": 10000
     },
     "inputWidgets": {},
     "nuid": "cee61331-7cb8-4d5b-b208-32a8b5d8846b",
     "showTitle": false,
     "title": ""
    }
   },
   "outputs": [
    {
     "output_type": "display_data",
     "data": {
      "text/plain": [
       "\u001B[0;31m---------------------------------------------------------------------------\u001B[0m\n",
       "\u001B[0;31mAttributeError\u001B[0m                            Traceback (most recent call last)\n",
       "File \u001B[0;32m<command-2798664673115701>, line 3\u001B[0m\n",
       "\u001B[1;32m      1\u001B[0m cv_model \u001B[38;5;241m=\u001B[39m crossval_model(data\u001B[38;5;241m=\u001B[39mtrain_data)\n",
       "\u001B[0;32m----> 3\u001B[0m cv_model\u001B[38;5;241m.\u001B[39msummary\n",
       "\n",
       "\u001B[0;31mAttributeError\u001B[0m: 'PipelineModel' object has no attribute 'summary'"
      ]
     },
     "metadata": {
      "application/vnd.databricks.v1+output": {
       "arguments": {},
       "data": "\u001B[0;31m---------------------------------------------------------------------------\u001B[0m\n\u001B[0;31mAttributeError\u001B[0m                            Traceback (most recent call last)\nFile \u001B[0;32m<command-2798664673115701>, line 3\u001B[0m\n\u001B[1;32m      1\u001B[0m cv_model \u001B[38;5;241m=\u001B[39m crossval_model(data\u001B[38;5;241m=\u001B[39mtrain_data)\n\u001B[0;32m----> 3\u001B[0m cv_model\u001B[38;5;241m.\u001B[39msummary\n\n\u001B[0;31mAttributeError\u001B[0m: 'PipelineModel' object has no attribute 'summary'",
       "errorSummary": "<span class='ansi-red-fg'>AttributeError</span>: 'PipelineModel' object has no attribute 'summary'",
       "errorTraceType": "ansi",
       "metadata": {},
       "type": "ipynbError"
      }
     },
     "output_type": "display_data"
    }
   ],
   "source": [
    "cv_model = crossval_model(data=train_data)\n",
    "\n",
    "cv_model.summary"
   ]
  },
  {
   "cell_type": "code",
   "execution_count": 0,
   "metadata": {
    "application/vnd.databricks.v1+cell": {
     "cellMetadata": {
      "byteLimit": 2048000,
      "rowLimit": 10000
     },
     "inputWidgets": {},
     "nuid": "2f7ce1fe-f6b8-420e-9fe6-7aadfb0790af",
     "showTitle": false,
     "title": ""
    }
   },
   "outputs": [
    {
     "output_type": "stream",
     "name": "stdout",
     "output_type": "stream",
     "text": [
      "Accuracy:  0.7991993702710468\nPrecision:  [0.7996412621187322, 0.6334158973204234]\nRecall:  [0.9987795420358934, 0.008356243938158448]\n"
     ]
    }
   ],
   "source": [
    "training_summary = cv_model.stages[1].summary\n",
    "accuracy = training_summary.accuracy\n",
    "precision = training_summary.precisionByLabel\n",
    "recall = training_summary.recallByLabel\n",
    "print(\"Accuracy: \", accuracy)\n",
    "print(\"Precision: \", precision)\n",
    "print(\"Recall: \", recall)"
   ]
  },
  {
   "cell_type": "code",
   "execution_count": 0,
   "metadata": {
    "application/vnd.databricks.v1+cell": {
     "cellMetadata": {
      "byteLimit": 2048000,
      "rowLimit": 10000
     },
     "inputWidgets": {},
     "nuid": "28667853-5438-42e5-9b9b-3d89573ffa32",
     "showTitle": false,
     "title": ""
    }
   },
   "outputs": [
    {
     "output_type": "execute_result",
     "data": {
      "text/plain": [
       "['pca_features', 'label', 'rawPrediction', 'probability', 'prediction']"
      ]
     },
     "execution_count": 22,
     "metadata": {},
     "output_type": "execute_result"
    }
   ],
   "source": [
    "test_preds = cv_model.transform(test_data)\n",
    "\n",
    "test_preds.columns"
   ]
  }
 ],
 "metadata": {
  "application/vnd.databricks.v1+notebook": {
   "dashboards": [],
   "language": "python",
   "notebookMetadata": {
    "pythonIndentUnit": 4
   },
   "notebookName": "Phase 2: ML Pipeline",
   "widgets": {}
  }
 },
 "nbformat": 4,
 "nbformat_minor": 0
}
